{
 "cells": [
  {
   "cell_type": "markdown",
   "metadata": {
    "id": "zVFQ5Nus944Y"
   },
   "source": [
    "### Preparação do ambiente.\n",
    "Download da base de imagens de RM em DICOM"
   ]
  },
  {
   "cell_type": "code",
   "execution_count": null,
   "metadata": {
    "id": "IVuc7Q0i4P3n"
   },
   "outputs": [],
   "source": [
    "!wget -c \"https://zenodo.org/record/16956/files/DICOM.zip\""
   ]
  },
  {
   "cell_type": "code",
   "execution_count": null,
   "metadata": {
    "id": "OElFjLM84XWe"
   },
   "outputs": [],
   "source": [
    "!unzip DICOM.zip"
   ]
  },
  {
   "cell_type": "markdown",
   "metadata": {
    "id": "bd8S9Ccv-C6w"
   },
   "source": [
    "### Instalação dos pacotes"
   ]
  },
  {
   "cell_type": "code",
   "execution_count": null,
   "metadata": {
    "id": "2Mtg4cHKaY9i"
   },
   "outputs": [],
   "source": [
    "!pip install pydicom opencv-python scikit-image"
   ]
  },
  {
   "cell_type": "code",
   "execution_count": null,
   "metadata": {
    "id": "rJbAYWMPWZf8"
   },
   "outputs": [],
   "source": [
    "!pip install pyradiomics"
   ]
  },
  {
   "cell_type": "markdown",
   "metadata": {
    "id": "ZP0FLS3-ZnA_"
   },
   "source": [
    "#### Leitura dos Dados da Ressonância"
   ]
  },
  {
   "cell_type": "code",
   "execution_count": null,
   "metadata": {
    "id": "SrgGB2NhVhqA"
   },
   "outputs": [],
   "source": [
    "from __future__ import print_function\n",
    "import six\n",
    "import os  # needed navigate the system to get the input data\n",
    "\n",
    "import SimpleITK as sitk\n",
    "import radiomics\n",
    "from radiomics import featureextractor  # This module is used for interaction with pyradiomics\n",
    "import matplotlib.pyplot as plt\n",
    "import numpy as np\n",
    "import pydicom as dicom\n",
    "import cv2\n",
    "import math\n",
    "import matplotlib.pyplot as plt"
   ]
  },
  {
   "cell_type": "code",
   "execution_count": null,
   "metadata": {
    "id": "PK6CWsMY6bJR"
   },
   "outputs": [],
   "source": [
    "# -------------------------------------------------------------------------------------\n",
    "# Define uma função para plotar o antes e depois\n",
    "def comparison_plot(original_image, before, after, title=\"\", images_title=(\"Imagem Original\", \"Antes\", \"Depois\")):\n",
    "\n",
    "  # Criação do plot\n",
    "  subplot_config = (1, 3)\n",
    "  plt.rcParams['figure.figsize'] = [17, 7]\n",
    "  figure, axes = plt.subplots(subplot_config[0], subplot_config[1])\n",
    "  figure.subplots_adjust(top=0.95)\n",
    "\n",
    "  # Ajusta as informações de cada subplot\n",
    "  ## Imagem Original\n",
    "  axes[0].imshow(original_image, cmap=\"gray\")\n",
    "  axes[0].axis('off')\n",
    "  axes[0].set_title(images_title[0])\n",
    "\n",
    "  # Imagem Anterior\n",
    "  axes[1].imshow(before, cmap=\"gray\")\n",
    "  axes[1].axis('off')\n",
    "  axes[1].set_title(images_title[1])\n",
    "\n",
    "  # Imagem Posterior\n",
    "  axes[2].imshow(after, cmap=\"gray\")\n",
    "  axes[2].axis('off')\n",
    "  axes[2].set_title(images_title[2])\n",
    "\n",
    "  plt.suptitle(title)\n",
    "  plt.show()\n",
    "# -------------------------------------------------------------------------------------"
   ]
  },
  {
   "cell_type": "code",
   "execution_count": null,
   "metadata": {
    "id": "vT4j_G6XZqAy"
   },
   "outputs": [],
   "source": [
    "# -------------------------------------------------------------------------------------\n",
    "\n",
    "# Define o diretório que contém cada paciente\n",
    "ROOT_DIR = \"/content/DICOM/ST000000/\"\n",
    "# -------------------------------------------------------------------------------------\n",
    "\n",
    "# Função que verifica se todos os arquivos são diretórios\n",
    "def check_if_all_dirs(root_dir, files):\n",
    "\n",
    "  for file_ in files:\n",
    "    if(os.path.isfile(os.path.join(root_dir, file_))):\n",
    "      return(False)\n",
    "  \n",
    "  return(True)\n",
    "# -------------------------------------------------------------------------------------\n",
    "\n",
    "# Função que lê as imagens DICOM a partir de uma lista de arquivos\n",
    "def read_dicom_files(root_dir, dicom_files):\n",
    "\n",
    "  # Define os dados que serão armazenados\n",
    "  info = {\n",
    "      \"filenames\": [],\n",
    "      \"images\": [],\n",
    "      \"PixelSpacing\": []\n",
    "  }\n",
    "  \n",
    "  for file_ in dicom_files:\n",
    "    full_path = os.path.join(root_dir, file_)\n",
    "\n",
    "    # Ignora diretórios\n",
    "    if(os.path.isfile(full_path)):\n",
    "\n",
    "      # Lê a imagem\n",
    "      dicom_struct = dicom.dcmread(full_path)\n",
    "      image = dicom_struct.pixel_array\n",
    "\n",
    "      # Normaliza para Escala de Cinza\n",
    "      image_norm = image / image.max()\n",
    "      image_norm = (image_norm * 255).astype(np.uint8)\n",
    "      image = image_norm\n",
    "\n",
    "      # Guarda o nome do arquivo e a imagem\n",
    "      info[\"filenames\"].append(file_)\n",
    "      info[\"images\"].append(image)\n",
    "      info[\"PixelSpacing\"].append(dicom_struct.PixelSpacing)\n",
    "\n",
    "\n",
    "  return(info)\n",
    "# -------------------------------------------------------------------------------------\n",
    "\n",
    "# Função que lê o conjunto de dados\n",
    "def read_dataset(root_dir):\n",
    "\n",
    "  # Descobre quais são as sequências\n",
    "  dirs = os.listdir(root_dir)\n",
    "  res = []\n",
    "  for sub in dirs:\n",
    "    # checking for matching elements\n",
    "    if sub[0].lower() == 's':\n",
    "            res.append(sub)\n",
    "    \n",
    "  # Define um dicionário para salvar os dados referentes a cada paciente\n",
    "  data = {\"sequence\": [], \"info\": []}\n",
    "\n",
    "  for dir_ in res:\n",
    "    full_dir_path = os.path.join(root_dir, dir_)\n",
    "    \n",
    "    # Descobre os arquivos DICOM de cada paciente\n",
    "    dir_files = sorted(os.listdir(full_dir_path))\n",
    "\n",
    "    # Verifica se os arquivos do diretório são arquivos ou apenas mais diretórios\n",
    "    all_dirs = check_if_all_dirs(full_dir_path, dir_files)\n",
    "    \n",
    "    # Se forem somente arquivos, lê as imagens DICOM (ILD)\n",
    "    if(not all_dirs):\n",
    "      info = read_dicom_files(full_dir_path, dir_files)\n",
    "\n",
    "      # Guarda as informações\n",
    "      data[\"sequence\"].append(dir_)\n",
    "      data[\"info\"].append(info)\n",
    "\n",
    "    # Se forem apenas diretórios, faz o acesso aos sub-diretórios e lê as imagens DICOM (VESSEL)\n",
    "    #else:\n",
    "\n",
    "    #  for sub_dir in dir_files:\n",
    "\n",
    "        # Descobre quais são os sub-diretórios\n",
    "    #    full_sub_dir_path = os.path.join(full_dir_path, sub_dir)\n",
    "    #    sub_dir_files = sorted(os.listdir(full_sub_dir_path))\n",
    "\n",
    "        # Lê as imagens\n",
    "    #    info = read_dicom_files(full_sub_dir_path, sub_dir_files)\n",
    "\n",
    "        # Guarda as informações\n",
    "    #    data[\"patient\"].append(int(sub_dir[-4:]))\n",
    "    #    data[\"info\"].append(info)\n",
    "  \n",
    "  return(data)\n",
    "# -------------------------------------------------------------------------------------"
   ]
  },
  {
   "cell_type": "code",
   "execution_count": null,
   "metadata": {
    "id": "qfgrkuVpyMOX"
   },
   "outputs": [],
   "source": [
    "# Lê os dados\n",
    "data = read_dataset(ROOT_DIR)\n",
    "\n",
    "print(\"Conjunto de Dados:\")\n",
    "print(\"\\n  - Número de Sequencias: {}\".format(len(data[\"sequence\"])))\n",
    "print(\"\\n  - Sequencias: {}\".format(data[\"sequence\"]))\n",
    "print(\"\\n  - Quantidade de Imagens por Sequencia:\")\n",
    "\n",
    "for seq_id in range(len(data[\"sequence\"])):\n",
    "  sequence = data[\"sequence\"][seq_id]\n",
    "  list_of_images = data[\"info\"][seq_id][\"images\"]\n",
    "  print(\"     - {}: {}\".format(sequence, len(list_of_images)))"
   ]
  },
  {
   "cell_type": "markdown",
   "metadata": {
    "id": "nFdkiL_XMmY8"
   },
   "source": [
    "#### Visualização das Imagens de Ressonância"
   ]
  },
  {
   "cell_type": "markdown",
   "metadata": {
    "id": "m4k3U92SVXE-"
   },
   "source": [
    "##### Matplotlib"
   ]
  },
  {
   "cell_type": "code",
   "execution_count": null,
   "metadata": {
    "id": "i6jEiWF6Vc6K"
   },
   "outputs": [],
   "source": [
    "import math\n",
    "import matplotlib.pyplot as plt\n",
    "# -------------------------------------------------------------------------------------\n",
    "\n",
    "# Função para plotar as imagens de um paciente\n",
    "def plot_dataset(info, title=\"\", num_rows=6, range_=(9, 20), fig_size=(15 , 20)):\n",
    "\n",
    "  # Define um intervalo específico de fatias para plotar\n",
    "  images = info[\"images\"][range_[0]:range_[1]]\n",
    "  filenames = info[\"filenames\"][range_[0]:range_[1]]\n",
    "\n",
    "  # Definições do plot\n",
    "  ## Número de colunas no plot\n",
    "  num_images = len(images)\n",
    "  is_divisible = num_images % num_rows\n",
    "  num_cols = (num_images // num_rows) + 1 if is_divisible else num_images // num_rows\n",
    "\n",
    "  ## Criação do plot\n",
    "  subplot_config = (num_rows, num_cols)\n",
    "  plt.rcParams['figure.figsize'] = list(fig_size)\n",
    "  figure, axes = plt.subplots(subplot_config[0], subplot_config[1])\n",
    "  figure.subplots_adjust(top=0.95)\n",
    "\n",
    "  # Plota todas as imagens lidas\n",
    "  for index in range(len(images)):\n",
    "\n",
    "    # Calcula a posição da imagem no plot\n",
    "    row = math.floor(index / subplot_config[1])\n",
    "    col = index % subplot_config[1]\n",
    "    \n",
    "    # Ajusta as informações de cada subplot\n",
    "    axes[row, col].imshow(images[index], cmap=\"gray\")\n",
    "    axes[row, col].axis('off')\n",
    "    axes[row, col].set_title(filenames[index])\n",
    "\n",
    "  # Deleta os plots que não foram associados a imagens\n",
    "  ids_to_remove = (num_rows * num_cols) - num_images\n",
    "  for i in range(ids_to_remove):\n",
    "    figure.delaxes(axes[-1, -(i+1)])\n",
    "\n",
    "  plt.suptitle(title)\n",
    "  plt.show()\n",
    "# -------------------------------------------------------------------------------------"
   ]
  },
  {
   "cell_type": "code",
   "execution_count": null,
   "metadata": {
    "id": "LpgsMc94Woog"
   },
   "outputs": [],
   "source": [
    "# Define o paciente que será plotado\n",
    "SEQ = 'SE000001'\n",
    "\n",
    "# Descobre o índice do paciente\n",
    "seq_index = data[\"sequence\"].index(SEQ)\n",
    "\n",
    "# Plota 12 fatias do paciente\n",
    "plot_dataset(data[\"info\"][seq_index],\n",
    "             title=\"Imagens da Sequencia {}\".format(SEQ),\n",
    "             num_rows=4,\n",
    "             range_=(9, 21))"
   ]
  },
  {
   "cell_type": "code",
   "execution_count": null,
   "metadata": {
    "id": "vMZB1xMf9pGt"
   },
   "outputs": [],
   "source": [
    "# Função que limiariza as fatias escolhidas de um paciente e plota\n",
    "def plot_thresholded_slices(data, seq_index, slice_range, type_=\"simple\", value=67, block_size=11, c=2, apply_blur=False):\n",
    "\n",
    "  # Seleciona as images e os nomes\n",
    "  images = data[\"info\"][seq_index][\"images\"][slice_range[0]:slice_range[1]]\n",
    "  filenames = data[\"info\"][seq_index][\"filenames\"][slice_range[0]:slice_range[1]]\n",
    "  \n",
    "  ## Criação do plot\n",
    "  subplot_config = (2, 3)\n",
    "  plt.rcParams['figure.figsize'] = [12, 8]\n",
    "  figure, axes = plt.subplots(subplot_config[0], subplot_config[1])\n",
    "  figure.subplots_adjust(top=0.90)\n",
    "\n",
    "  # Plota todas as imagens lidas\n",
    "  for index in range(len(images)):\n",
    "\n",
    "    # Calcula a posição da imagem no plot\n",
    "    row = math.floor(index / subplot_config[1])\n",
    "    col = index % subplot_config[1]\n",
    "\n",
    "    # Aplica ou não a técnica de borramento conforme informado\n",
    "    if(apply_blur):\n",
    "      image = cv2.GaussianBlur(images[index], (5, 5), 0)\n",
    "    else:\n",
    "      image = images[index]\n",
    "    \n",
    "    # Aplica o tipo de threshold informado:\n",
    "\n",
    "    ## Threshold Simples\n",
    "    if(type_ == \"simples\"):\n",
    "      ret, thresh = cv2.threshold(image, value, 255, cv2.THRESH_BINARY_INV)\n",
    "\n",
    "    ## Threshold Adaptativo\n",
    "    elif(type_ == \"adaptativo\"):\n",
    "      thresh = cv2.adaptiveThreshold(image, 255, cv2.ADAPTIVE_THRESH_MEAN_C, cv2.THRESH_BINARY_INV, block_size, c)\n",
    "\n",
    "    ## Threshold Otsu\n",
    "    elif(type_ == \"otsu\"):\n",
    "      ret, thresh = cv2.threshold(image, 0, 255, cv2.THRESH_BINARY_INV + cv2.THRESH_OTSU)\n",
    "\n",
    "    else:\n",
    "      print(\"Erro: técnica não implementada.\")\n",
    "      return\n",
    "\n",
    "    # Ajusta as informações de cada subplot\n",
    "    axes[row, col].imshow(thresh, cmap=\"gray\")\n",
    "    axes[row, col].axis('off')\n",
    "    axes[row, col].set_title(filenames[index])\n",
    "\n",
    "  plt.suptitle(\"Threshold {} em {} Fatias do Paciente {}\".format(slice_range[1] - slice_range[0],\n",
    "                                                                 type_[0].upper() + type_[1:],\n",
    "                                                                 data[\"patient\"][seq_index]))\n",
    "  plt.show()"
   ]
  },
  {
   "cell_type": "markdown",
   "metadata": {
    "id": "5IeoWsKtMtZJ"
   },
   "source": [
    "##### Jupyter Slider"
   ]
  },
  {
   "cell_type": "markdown",
   "metadata": {
    "id": "yQnlNgsqMw9A"
   },
   "source": [
    "* Instalação dos Pacotes e Importações"
   ]
  },
  {
   "cell_type": "code",
   "execution_count": null,
   "metadata": {
    "id": "enmXoZZPM0oz"
   },
   "outputs": [],
   "source": [
    "# Instala do JupyterLite\n",
    "!pip install -q ipywidgets\n",
    "# -------------------------------------------------------------------------------------\n",
    "\n",
    "# Importa todas as interações\n",
    "from ipywidgets import interact, interactive, fixed, interact_manual\n",
    "import ipywidgets as widgets\n",
    "# -------------------------------------------------------------------------------------"
   ]
  },
  {
   "cell_type": "markdown",
   "metadata": {
    "id": "FsZ-8GFnM9mc"
   },
   "source": [
    "* Visualização (por paciente)"
   ]
  },
  {
   "cell_type": "code",
   "execution_count": null,
   "metadata": {
    "id": "fsR9ZJQpPDXr"
   },
   "outputs": [],
   "source": [
    "# Define a barra de escolha do paciente\n",
    "sequence_widget = widgets.Dropdown(\n",
    "    options=sorted(data[\"sequence\"]),\n",
    "    value=None,\n",
    "    description='Sequencia:'\n",
    ")\n",
    "\n",
    "# Define a barra de escolha do arquivo DICOM referente ao paciente\n",
    "file_widget = widgets.Dropdown(\n",
    "    options=[],\n",
    "    value=None,\n",
    "    description='Arquivo:'\n",
    ")\n",
    "# -------------------------------------------------------------------------------------\n",
    "\n",
    "# Função que atualiza as escolhas de arquivos DICOM de acordo com o paciente indicado\n",
    "def update_files(*args):\n",
    "    sequence_index = data[\"sequence\"].index(sequence_widget.value)\n",
    "    file_widget.options = sorted(data[\"info\"][sequence_index][\"filenames\"])\n",
    "# -------------------------------------------------------------------------------------\n",
    "\n",
    "# Função para mostrar a imagem de acordo com o nome dela\n",
    "def show_image(sequence, filename):\n",
    "  plt.rcParams['figure.figsize'] = [6, 6]\n",
    "  if(sequence is None): \n",
    "    return\n",
    "\n",
    "  # Busca o índice do paciente indicado\n",
    "  sequences = data[\"sequence\"]\n",
    "  sequence_index = sequence.index(sequence)\n",
    "  print(\"Sequence is: \", sequence)\n",
    "  print(\"Valor Sequencia: \", filename)\n",
    "  # Busca o índice do arquivo indicado\n",
    "  paths = data[\"info\"][sequence_index][\"filenames\"]\n",
    "  file_index = paths.index(filename)\n",
    "\n",
    "  # Plota a imagem\n",
    "  plt.imshow(data[\"info\"][sequence_index][\"images\"][file_index], cmap='gray')\n",
    "  plt.axis('off')\n",
    "\n",
    "  slice_ = int(filename[2:])\n",
    "  \n",
    "  plt.title(\"Sequencia {} na Fatia {}\".format(sequence, slice_))\n",
    "  plt.show()\n",
    "# -------------------------------------------------------------------------------------\n",
    "\n",
    "# Função que observa mudanças na seleção do paciente\n",
    "sequence_widget.observe(update_files, 'value')\n",
    "\n",
    "# Função de interação\n",
    "_ = interact(show_image, sequence=sequence_widget, filename=file_widget)\n",
    "# -------------------------------------------------------------------------------------"
   ]
  },
  {
   "cell_type": "markdown",
   "metadata": {
    "id": "p0PwiRiJkr23"
   },
   "source": [
    "#### Segmentação com Threshold Simples\n"
   ]
  },
  {
   "cell_type": "markdown",
   "metadata": {
    "id": "MreEIbfzsoh9"
   },
   "source": [
    "* Jupyter Slider"
   ]
  },
  {
   "cell_type": "code",
   "execution_count": null,
   "metadata": {
    "id": "nkYwg-0pmf28"
   },
   "outputs": [],
   "source": [
    "%matplotlib inline\n",
    "import cv2\n",
    "# -------------------------------------------------------------------------------------\n",
    "\n",
    "# Define a imagem\n",
    "\n",
    "SEQ = \"SE000002\"\n",
    "FILENAME = \"MR000012\"\n",
    "\n",
    "#Busca o índice do paciente indicado\n",
    "sequence_index = data[\"sequence\"].index(SEQ)\n",
    "\n",
    "\n",
    "# Busca o índice do arquivo indicado\n",
    "paths = data[\"info\"][sequence_index][\"filenames\"]\n",
    "file_index = paths.index(FILENAME)\n",
    "\n",
    "image = data[\"info\"][sequence_index][\"images\"][file_index]\n",
    "\n",
    "# Define a barra de valores para interação\n",
    "value_slider = widgets.IntSlider(min=0, max=255, step=1, value=67, description=\"Limiar\")\n",
    "\n",
    "# Define a função de plot\n",
    "def show_thres_image(value):\n",
    "  plt.rcParams['figure.figsize'] = [6, 6]\n",
    "  ret, thresh = cv2.threshold(image, value, 255, cv2.THRESH_BINARY)\n",
    "  plt.imshow(thresh, cmap=\"gray\") \n",
    "  plt.axis(\"off\")\n",
    "\n",
    "  print(data[\"sequence\"].index(SEQ)) #][\"filenames\"][SLICE_INDEX])\n",
    "  plt.title(\"Threshold Simples na Fatia {} da Sequencia {}\".format(FILENAME,\n",
    "                                                                  SEQ))\n",
    "  plt.show() \n",
    "\n",
    "# Plota e controla os eventos\n",
    "_ = interact(show_thres_image, value=value_slider)\n",
    "# ----------------------------------------------------------------------------------\n"
   ]
  },
  {
   "cell_type": "markdown",
   "metadata": {
    "id": "SmgqDu_DEm5Y"
   },
   "source": [
    "### Criando uma subimagem"
   ]
  },
  {
   "cell_type": "code",
   "execution_count": null,
   "metadata": {
    "id": "ETNscKehEl7V"
   },
   "outputs": [],
   "source": [
    "#cropped_image = image[80:112, 105:137]\n",
    "cropped_image = image[50:82, 80:112]\n",
    "\n",
    "# Criação do plot\n",
    "subplot_config = (1, 3)\n",
    "plt.rcParams['figure.figsize'] = [17, 7]\n",
    "figure, axes = plt.subplots(subplot_config[0], subplot_config[1])\n",
    "figure.subplots_adjust(top=0.95)\n",
    "\n",
    "\n",
    "plt.close()\n",
    "plt.imshow(cropped_image, cmap=plt.cm.gray)\n",
    "plt.figure()\n",
    "# O threshold tem que gerar a saída com valor 1, pois o arquivo do Pyradiomics\n",
    "# busca esse valor na imagem que serve de máscara\n",
    "_, thresh = cv2.threshold(cropped_image, 100, 1, cv2.THRESH_BINARY)\n",
    "\n",
    "\n",
    "plt.imshow(thresh, cmap=plt.cm.gray)\n",
    "plt.show()"
   ]
  },
  {
   "cell_type": "markdown",
   "metadata": {
    "id": "L-4hm_ruman7"
   },
   "source": [
    "## Utilização da biblioteca Pyradiomics\n",
    "Exemplo de como utilizar as imagens do numpy para o biblioteca Pyradiomics e extrair as características.\n",
    "\n",
    "https://github.com/AIM-Harvard/pyradiomics/issues/449"
   ]
  },
  {
   "cell_type": "code",
   "execution_count": null,
   "metadata": {
    "id": "yd0rolNtk7jg"
   },
   "outputs": [],
   "source": [
    "!wget -c https://raw.githubusercontent.com/AIM-Harvard/pyradiomics/master/examples/exampleSettings/Params.yaml"
   ]
  },
  {
   "cell_type": "code",
   "execution_count": null,
   "metadata": {
    "id": "5M2o_PliV6-u"
   },
   "outputs": [],
   "source": [
    "# get the pixel information into a numpy array\n",
    "data_spacing= data[\"info\"][sequence_index][\"PixelSpacing\"][file_index]\n",
    "#data_spacing=[1,1,1]\n",
    "data_spacing.append(1)\n",
    "print('The image has {} x {} voxels'.format(data_spacing[0],\n",
    "                                            data_spacing[1]))\n",
    "img_slice = cropped_image \n",
    "sitk_img = sitk.GetImageFromArray(img_slice)\n",
    "sitk_img.SetSpacing((float(data_spacing[0]), float(data_spacing[1]), float(data_spacing[2]) ))\n",
    "sitk_img = sitk.JoinSeries(sitk_img)\n",
    "\n",
    "sitk_mask = sitk.GetImageFromArray(thresh)\n",
    "sitk_mask.SetSpacing((float(data_spacing[0]), float(data_spacing[1]), float(data_spacing[2]) ))\n",
    "sitk_mask = sitk.JoinSeries(sitk_mask)\n",
    "sitk_mask = sitk.Cast(sitk_mask, sitk.sitkInt32) # MAKE SURE IT IS CASTED IN INT\n",
    "\n",
    "# prepare the settings and load\n",
    "params = '/content/Params.yaml'\n",
    "extractor = featureextractor.RadiomicsFeatureExtractor(params)   #RadiomicsFeaturesExtractor(params)\n",
    "\n",
    "#extract \n",
    "features = {}\n",
    "features = extractor.execute(sitk_img, sitk_mask)\n",
    "\n",
    "\n",
    "#plt.close()\n",
    "#plt.imshow(data, cmap=plt.cm.gray)\n",
    "#plt.figure()\n",
    "#plt.imshow(data_downsampling, cmap=plt.cm.gray)\n",
    "#plt.show()"
   ]
  },
  {
   "cell_type": "code",
   "execution_count": null,
   "metadata": {
    "id": "wemko2fTl5yR"
   },
   "outputs": [],
   "source": [
    "#print(features)\n",
    "for key, val in six.iteritems(features):\n",
    "  print(\"\\t%s: %s\" %(key, val))\n"
   ]
  }
 ],
 "metadata": {
  "colab": {
   "provenance": []
  },
  "kernelspec": {
   "display_name": "Python 3 (ipykernel)",
   "language": "python",
   "name": "python3"
  },
  "language_info": {
   "codemirror_mode": {
    "name": "ipython",
    "version": 3
   },
   "file_extension": ".py",
   "mimetype": "text/x-python",
   "name": "python",
   "nbconvert_exporter": "python",
   "pygments_lexer": "ipython3",
   "version": "3.9.13"
  }
 },
 "nbformat": 4,
 "nbformat_minor": 4
}
