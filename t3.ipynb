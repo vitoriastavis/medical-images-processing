{
  "cells": [
    {
      "cell_type": "code",
      "execution_count": 5,
      "id": "a0b2b583-c1da-4b2e-b4df-2d4ac65e97e6",
      "metadata": {
        "id": "a0b2b583-c1da-4b2e-b4df-2d4ac65e97e6",
        "outputId": "dac5af40-8895-4698-e04f-a33b7731f80c",
        "colab": {
          "base_uri": "https://localhost:8080/"
        }
      },
      "outputs": [
        {
          "output_type": "stream",
          "name": "stdout",
          "text": [
            "     ━━━━━━━━━━━━━━━━━━━━━━━━━━━━━━━━━━━━━━━━ 1.8/1.8 MB 21.1 MB/s eta 0:00:00\n",
            "     ━━━━━━━━━━━━━━━━━━━━━━━━━━━━━━━━━━━━━━━━ 34.5/34.5 MB 15.1 MB/s eta 0:00:00\n",
            "     ━━━━━━━━━━━━━━━━━━━━━━━━━━━━━━━━━━━━━━━━ 34.5/34.5 MB 49.7 MB/s eta 0:00:00\n",
            "     ━━━━━━━━━━━━━━━━━━━━━━━━━━━━━━━━━━━━━━━━ 52.7/52.7 MB 11.0 MB/s eta 0:00:00\n",
            "     ━━━━━━━━━━━━━━━━━━━━━━━━━━━━━━━━━━━━━━━━ 116.4/116.4 kB 16.7 MB/s eta 0:00:00\n",
            "     ━━━━━━━━━━━━━━━━━━━━━━━━━━━━━━━━━━━━━━━━ 526.7/526.7 kB 52.6 MB/s eta 0:00:00\n"
          ]
        }
      ],
      "source": [
        "%%bash\n",
        "pip -q install pydicom opencv-python scikit-image\n",
        "pip -q install pyradiomics\n",
        "\n",
        "wget -q http://www.inf.ufpr.br/lferrari/imagens_ihq.tar.gz\n",
        "!tar -xf imagens_ihq.tar.gz"
      ]
    },
    {
      "cell_type": "code",
      "execution_count": 7,
      "id": "3d96161f-6336-49be-ae1a-5f50cbdf5e31",
      "metadata": {
        "id": "3d96161f-6336-49be-ae1a-5f50cbdf5e31"
      },
      "outputs": [],
      "source": [
        "import cv2 as cv\n",
        "import numpy as np\n",
        "import os\n",
        "import pandas as pd\n",
        "import random\n",
        "from sklearn.model_selection import train_test_split\n",
        "from joblib import dump, load\n",
        "import pydicom as dicom\n",
        "import radiomics\n",
        "from radiomics import featureextractor\n",
        "import SimpleITK as sitk\n",
        "from sklearn.neural_network import MLPClassifier\n",
        "import matplotlib.pyplot as plt"
      ]
    },
    {
      "cell_type": "code",
      "execution_count": 70,
      "id": "6364a4a5-2187-415e-83f8-3c6c59912354",
      "metadata": {
        "id": "6364a4a5-2187-415e-83f8-3c6c59912354"
      },
      "outputs": [],
      "source": [
        "def cut_images(input_path, new_width, new_height, output_path=None):\n",
        "    \"\"\"\n",
        "    Cut images into the desired size and save the output images\n",
        "\n",
        "    Params:\n",
        "    input_path = path to the original images\n",
        "    output_path = path to save the cut images\n",
        "    new_width = width of the cut images\n",
        "    new_height = height of the cut images\n",
        "\n",
        "    Return:\n",
        "    None\n",
        "    \"\"\"\n",
        "\n",
        "\n",
        "\n",
        "    images_data = {}\n",
        "    classes = []\n",
        "    patients = []\n",
        "\n",
        "    # Browse input path\n",
        "    for class_dir in os.listdir(input_path):\n",
        "        class_path = os.path.join(input_path, class_dir)\n",
        "\n",
        "        # If it is a directory\n",
        "        if os.path.isdir(class_path):\n",
        "\n",
        "\n",
        "\n",
        "            # Save image id\n",
        "            image_id = 1\n",
        "\n",
        "            # Go through images\n",
        "            for image_file in os.listdir(class_path):\n",
        "                image_path = os.path.join(class_path, image_file)\n",
        "\n",
        "                # Save patient id\n",
        "                patient = image_file.split(\"_\")[0]\n",
        "                patients.append(patient)\n",
        "\n",
        "                image = cv.imread(image_path)\n",
        "\n",
        "                # If image exists\n",
        "                if image is not None:\n",
        "\n",
        "                    # Save subimage id\n",
        "                    sub_id = 1\n",
        "\n",
        "                    for i in range(0, image.shape[0], new_height):\n",
        "                        for j in range(0, image.shape[1], new_width):\n",
        "\n",
        "                            # Cut image into subimage\n",
        "                            sub_image = image[i:i+new_height, j:j+new_width]\n",
        "\n",
        "                            # Image name identifier\n",
        "                            image_name = f\"{patient}-img{image_id}-{sub_id}\"\n",
        "\n",
        "                            # Append image and its label to the dictionary\n",
        "                            images_data[image_name] = sub_image\n",
        "\n",
        "                            # images_names.append(image_name)\n",
        "                            # images.append(sub_image)\n",
        "\n",
        "                            classes.append(int(class_dir))\n",
        "\n",
        "\n",
        "                            # Write subimage if an output path was given\n",
        "                            if output_path != None:\n",
        "                                # Create dir if it doesn't exist\n",
        "                                os.makedirs(os.path.join(output_path, class_dir), exist_ok=True)\n",
        "                                # Output file path\n",
        "                                output_file = f\"{image_name}.png\"\n",
        "                                output_file = os.path.join(output_path, class_dir, output_file)\n",
        "                                # Save subimage\n",
        "                                cv.imwrite(output_file, sub_image)\n",
        "\n",
        "                            sub_id += 1\n",
        "\n",
        "                    image_id += 1\n",
        "\n",
        "    return (images_data, patients, classes)"
      ]
    },
    {
      "cell_type": "code",
      "execution_count": 68,
      "id": "2b932850-3b26-48ae-b7fd-84bc4b01f069",
      "metadata": {
        "id": "2b932850-3b26-48ae-b7fd-84bc4b01f069"
      },
      "outputs": [],
      "source": [
        "def divide_folds(images, patients, classes):\n",
        "    \"\"\"\n",
        "    Divides a dataset into folds for stratified k-fold cross-validation.\n",
        "\n",
        "    Params:\n",
        "    images = list of all images\n",
        "    patients = list with patient id for each image\n",
        "    classes = list with class for each image\n",
        "\n",
        "    Return:\n",
        "    folds = list of tuples, each tuple is one folder\n",
        "    \"\"\"\n",
        "    # Create a list of unique indexes for patients\n",
        "    unique_patients = list(set(patients))\n",
        "\n",
        "    # Shuffle the list of unique indexes\n",
        "    random.shuffle(unique_patients)\n",
        "\n",
        "    # Divide patients into groups\n",
        "    n_folds = 4 # since it's not an exact division, there will be 5 folds\n",
        "    fold_size = len(unique_patients) // n_folds\n",
        "    patients_folds = [unique_patients[i:i+fold_size] for i in range(0, len(unique_patients), fold_size)]\n",
        "\n",
        "    # List to save folds\n",
        "    folds = []\n",
        "\n",
        "    # Divide images into folds based on patients\n",
        "    for i, patients_folds in enumerate(patients_folds):\n",
        "        train_patients = [p for p in unique_patients if p not in patients_folds]\n",
        "        test_patients = patients_folds\n",
        "\n",
        "        train_indices = [i for i, patient in enumerate(patients) if patient in train_patients]\n",
        "        test_indices = [i for i, patient in enumerate(patients) if patient in test_patients]\n",
        "\n",
        "        train_images = [images[i] for i in train_indices]\n",
        "        test_images = [images[i] for i in test_indices]\n",
        "        train_classes = [classes[i] for i in train_indices]\n",
        "        test_classes = [classes[i] for i in test_indices]\n",
        "\n",
        "        folds.append((train_images, test_images, train_classes, test_classes))\n",
        "\n",
        "    return folds\n"
      ]
    },
    {
      "cell_type": "code",
      "execution_count": 92,
      "id": "6ffde47d-d3b1-4b23-aa4a-624176aa0721",
      "metadata": {
        "id": "6ffde47d-d3b1-4b23-aa4a-624176aa0721"
      },
      "outputs": [],
      "source": [
        "def apply_thresholds(imgs):\n",
        "    \"\"\"\n",
        "    Apply Otsu's and Adaptative thresholds to images\n",
        "\n",
        "    Params:\n",
        "    imgs = list of raw images\n",
        "\n",
        "    Return:\n",
        "    imgs_otsu = Otsu's thresholded images\n",
        "    imgs_adapt = Adaptative thresholded images\n",
        "    \"\"\"\n",
        "\n",
        "    for key, value in images_data.items():\n",
        "\n",
        "        gray = cv.cvtColor(value, cv.COLOR_BGR2GRAY)\n",
        "\n",
        "        # Otsu's thresholding\n",
        "        _, th1 = cv.threshold(gray, 100, 1, cv.THRESH_BINARY+cv.THRESH_OTSU)\n",
        "\n",
        "        # Adaptative gaussian thresholding\n",
        "        #th2 = cv.adaptiveThreshold(img,255,cv.ADAPTIVE_THRESH_MEAN_C, cv.THRESH_BINARY,11,2)\n",
        "        th3 = cv.adaptiveThreshold(gray, 1, cv.ADAPTIVE_THRESH_GAUSSIAN_C, cv.THRESH_BINARY, 11, 2)\n",
        "\n",
        "        images_data[key] = (value, th1, th3)\n",
        "\n",
        "    return images_data"
      ]
    },
    {
      "cell_type": "code",
      "execution_count": 93,
      "id": "0e1e017d-32d8-466e-8cb3-35b6a0ca267d",
      "metadata": {
        "id": "0e1e017d-32d8-466e-8cb3-35b6a0ca267d"
      },
      "outputs": [],
      "source": [
        "# Cut images into 40x30\n",
        "images_data, patients, classes = cut_images(\"/content/imagens_ihq_er\", 40, 30)\n",
        "\n",
        "# Divide images into folds\n",
        "images_names = list(images_data.keys())\n",
        "folds = divide_folds(images_names, patients, classes)\n",
        "\n",
        "# Update images_data, applying Otsu's and adaptive thresholds\n",
        "images_data = apply_thresholds(images_data)\n",
        "\n",
        "# Save folds locally\n",
        "#dump(folds, '../folds.joblib')\n",
        "\n",
        "# Load folds\n",
        "# folds = load('../folds.joblib')"
      ]
    },
    {
      "cell_type": "markdown",
      "id": "d2f16db1-548d-4e29-aadc-a7d72c4493ec",
      "metadata": {
        "id": "d2f16db1-548d-4e29-aadc-a7d72c4493ec"
      },
      "source": [
        "Extract features with PyRadiomics"
      ]
    },
    {
      "cell_type": "code",
      "execution_count": null,
      "id": "1df52a57-9ed6-47f8-98ab-ad4a6c4c7a45",
      "metadata": {
        "id": "1df52a57-9ed6-47f8-98ab-ad4a6c4c7a45"
      },
      "outputs": [],
      "source": [
        "def run_extractor(imgs, otsu, adapt, extractor):\n",
        "    \"\"\"\n",
        "    Extract features using sitk and pyradiomics\n",
        "\n",
        "    Params:\n",
        "    imgs = raw images\n",
        "    otsu = masked images with otsu thresholding\n",
        "    adapt = masked images with adaptative thresholding\n",
        "    extractor = pyradiomics extractor\n",
        "\n",
        "    Returns:\n",
        "    features_otsu = features for otsu mask\n",
        "    features_adapt = features for adaptative mask\n",
        "    \"\"\"\n",
        "\n",
        "    data_spacing=[1,1,1]\n",
        "    features_otsu = []\n",
        "    features_adapt = []\n",
        "\n",
        "    for idx in range(len(imgs)):\n",
        "\n",
        "        # Get raw, Otsu's and adaptive images\n",
        "        img = imgs[idx]\n",
        "        img_otsu = otsu[idx]\n",
        "        img_adapt = adapt[idx]\n",
        "\n",
        "        sitk_img = sitk.GetImageFromArray(img)\n",
        "        sitk_img.SetSpacing((1, 1, 1))\n",
        "        sitk_img = sitk.JoinSeries(sitk_img)\n",
        "\n",
        "        sitk_otsu = sitk.GetImageFromArray(img_otsu)\n",
        "        sitk_otsu.SetSpacing((1, 1, 1))\n",
        "        sitk_otsu = sitk.JoinSeries(sitk_otsu)\n",
        "        sitk_otsu = sitk.Cast(sitk_otsu, sitk.sitkInt32)\n",
        "\n",
        "        sitk_adapt = sitk.GetImageFromArray(img_adapt)\n",
        "        sitk_adapt.SetSpacing((1, 1, 1))\n",
        "        sitk_adapt = sitk.JoinSeries(sitk_adapt)\n",
        "        sitk_adapt = sitk.Cast(sitk_otsu, sitk.sitkInt32)\n",
        "\n",
        "        # Extract features and append them to the proper list\n",
        "        try:\n",
        "            ft_otsu = extractor.execute(sitk_img, sitk_otsu)\n",
        "            features_otsu.append(ft_otsu)\n",
        "\n",
        "            ft_adapt = extractor.execute(sitk_img, sitk_adapt)\n",
        "            features_adapt.append(ft_adapt)\n",
        "\n",
        "        except:\n",
        "            #print(f\"{idx}, \", end=\"\")\n",
        "            pass\n",
        "\n",
        "    return (features_otsu, features_adapt)\n",
        "\n"
      ]
    },
    {
      "cell_type": "code",
      "execution_count": 101,
      "id": "283f005e-92be-49b2-b869-f622389d0a68",
      "metadata": {
        "id": "283f005e-92be-49b2-b869-f622389d0a68"
      },
      "outputs": [],
      "source": [
        "def conditional_append(element, dest):\n",
        "    \"\"\"\n",
        "    Append element to the list destiny, if element is not in destiny\n",
        "\n",
        "    Params:\n",
        "    element = an element of any kind\n",
        "    dest = a destination list\n",
        "\n",
        "    Returns:\n",
        "    destiny = list with appended element if the element was not in there\n",
        "    \"\"\"\n",
        "    if element not in dest:\n",
        "        dest.append(element)\n",
        "\n",
        "    return dest\n",
        "\n",
        "def process_features(feats_o, feats_a):\n",
        "    \"\"\"\n",
        "    Process features, in a way that:\n",
        "    - features that are dictionaries and strings are removed\n",
        "    - features that are tuples are separated and each element\n",
        "    of the tuple is considered one feature\n",
        "    - other types are converted to float\n",
        "\n",
        "    Params:\n",
        "    feats_o = list of Otsu's threshold features\n",
        "    feats_a = list of adaptativa threshold features\n",
        "\n",
        "    Returns:\n",
        "    all_feats_o = Otsu's features processed\n",
        "    all_feats_a = adaptative features processed\n",
        "    names = feature names processed\n",
        "    \"\"\"\n",
        "\n",
        "    all_feats_o = []\n",
        "    all_feats_a = []\n",
        "    names = []\n",
        "\n",
        "    # For each image in one of the features list\n",
        "    for sample_id in range(len(feats_o)):\n",
        "\n",
        "        # Get features for Otsu's and adaptive for this sample\n",
        "        sample_o = feats_o[sample_id]\n",
        "        sample_a = feats_a[sample_id]\n",
        "\n",
        "        values_o = []\n",
        "        values_a = []\n",
        "\n",
        "        # For each feature in the list\n",
        "        for key in sample_o:\n",
        "\n",
        "            # Get the feature's value\n",
        "            value_o = sample_o[key]\n",
        "            value_a = sample_a[key]\n",
        "\n",
        "            # If the value is str or dict, ignore it\n",
        "            if type(value_o) == str or type(value_o) == dict:\n",
        "                continue\n",
        "            # If it's a tuple\n",
        "            elif type(value_o) == tuple:\n",
        "                for e in range(len(value_o)):\n",
        "                    # Add and index to the feature name\n",
        "                    conditional_append(f'{key}_{e}', names)\n",
        "                    # Append float values to the lists\n",
        "                    values_o.append(float(value_o[e]))\n",
        "                    values_a.append(float(value_a[e]))\n",
        "            # For other data types, just append the name and float values\n",
        "            else:\n",
        "                conditional_append(key, names)\n",
        "                values_o.append(float(value_o))\n",
        "                values_a.append(float(value_a))\n",
        "\n",
        "        # Append processed features to the general list\n",
        "        all_feats_o.append(values_o)\n",
        "        all_feats_a.append(values_a)\n",
        "\n",
        "    return (all_feats_o, all_feats_a, names)\n",
        "\n",
        "def extract_features(images_data):\n",
        "    \"\"\"\n",
        "    Process features, in a way that:\n",
        "    - features that are dictionaries and strings are removed\n",
        "    - features that are tuples are separated and each element\n",
        "    of the tuple is considered one feature\n",
        "    - other types are converted to float\n",
        "    Get the features' names, with tuple features indexed\n",
        "\n",
        "    Params:\n",
        "    folds = list of tuples containing x_train raw and with thresholds\n",
        "\n",
        "    Returns:\n",
        "    all_folds_feats = dictionary containing Otsu's features and adaptive\n",
        "    features for each fold\n",
        "    names = feature names\n",
        "    \"\"\"\n",
        "\n",
        "    # Create feature extractor\n",
        "    !wget -c https://raw.githubusercontent.com/AIM-Harvard/pyradiomics/master/examples/exampleSettings/Params.yaml\n",
        "    params = 'Params.yaml'\n",
        "    settings = {'label': 1, 'correctMask': True}\n",
        "    extractor = featureextractor.RadiomicsFeatureExtractor(params, additionalInfo=True, **settings)\n",
        "\n",
        "    # Get x_train and threshold images\n",
        "    x_train = [images_data[key][0] for key in images_data]\n",
        "    x_train_otsu = [images_data[key][1] for key in images_data]\n",
        "    x_train_adapt = [images_data[key][2] for key in images_data]\n",
        "\n",
        "    # Extract features from Otsu's and adaptative\n",
        "    feats_o, feats_a = run_extractor(x_train, x_train_otsu, x_train_adapt, extractor)\n",
        "\n",
        "    # Process features and get feature names\n",
        "    all_feats_o, all_feats_a, names = process_features(feats_o, feats_a)\n",
        "\n",
        "    # Save features in the dictionary\n",
        "    keys = list(images_data.keys())\n",
        "    for i in range(len(images_data)):\n",
        "        key = key[i]\n",
        "        value = images_data[key]\n",
        "        images_data[key] = (value[0], value[1], value[2], all_feats_o[i], all_feats_a[i])\n",
        "\n",
        "    return (images_data, names)"
      ]
    },
    {
      "cell_type": "code",
      "execution_count": 102,
      "id": "c20992f0-183f-4cff-b718-67608f9100ff",
      "metadata": {
        "id": "c20992f0-183f-4cff-b718-67608f9100ff",
        "outputId": "425943ab-a4b8-4120-895c-8f2e893a71fd",
        "colab": {
          "base_uri": "https://localhost:8080/",
          "height": 549
        }
      },
      "outputs": [
        {
          "output_type": "stream",
          "name": "stdout",
          "text": [
            "--2023-11-22 13:21:35--  https://raw.githubusercontent.com/AIM-Harvard/pyradiomics/master/examples/exampleSettings/Params.yaml\n",
            "Resolving raw.githubusercontent.com (raw.githubusercontent.com)... 185.199.108.133, 185.199.109.133, 185.199.110.133, ...\n",
            "Connecting to raw.githubusercontent.com (raw.githubusercontent.com)|185.199.108.133|:443... connected.\n",
            "HTTP request sent, awaiting response... 200 OK\n",
            "Length: 3037 (3.0K) [text/plain]\n",
            "Saving to: ‘Params.yaml’\n",
            "\n",
            "\rParams.yaml           0%[                    ]       0  --.-KB/s               \rParams.yaml         100%[===================>]   2.97K  --.-KB/s    in 0s      \n",
            "\n",
            "2023-11-22 13:21:35 (45.9 MB/s) - ‘Params.yaml’ saved [3037/3037]\n",
            "\n"
          ]
        },
        {
          "output_type": "stream",
          "name": "stderr",
          "text": [
            "INFO:radiomics.featureextractor:Loading parameter file Params.yaml\n",
            "INFO:radiomics.featureextractor:Applying custom setting overrides: {'additionalInfo': True, 'label': 1, 'correctMask': True}\n"
          ]
        },
        {
          "output_type": "error",
          "ename": "TypeError",
          "evalue": "ignored",
          "traceback": [
            "\u001b[0;31m---------------------------------------------------------------------------\u001b[0m",
            "\u001b[0;31mTypeError\u001b[0m                                 Traceback (most recent call last)",
            "\u001b[0;32m<ipython-input-102-6648942ba472>\u001b[0m in \u001b[0;36m<cell line: 1>\u001b[0;34m()\u001b[0m\n\u001b[0;32m----> 1\u001b[0;31m \u001b[0mall_folds_feats\u001b[0m\u001b[0;34m,\u001b[0m \u001b[0mnames\u001b[0m \u001b[0;34m=\u001b[0m \u001b[0mextract_features\u001b[0m\u001b[0;34m(\u001b[0m\u001b[0mfolds\u001b[0m\u001b[0;34m)\u001b[0m\u001b[0;34m\u001b[0m\u001b[0;34m\u001b[0m\u001b[0m\n\u001b[0m",
            "\u001b[0;32m<ipython-input-101-f1741fad00d2>\u001b[0m in \u001b[0;36mextract_features\u001b[0;34m(images_data)\u001b[0m\n\u001b[1;32m    102\u001b[0m \u001b[0;34m\u001b[0m\u001b[0m\n\u001b[1;32m    103\u001b[0m     \u001b[0;31m# Get x_train and threshold images\u001b[0m\u001b[0;34m\u001b[0m\u001b[0;34m\u001b[0m\u001b[0m\n\u001b[0;32m--> 104\u001b[0;31m     \u001b[0mx_train\u001b[0m \u001b[0;34m=\u001b[0m \u001b[0;34m[\u001b[0m\u001b[0mimages_data\u001b[0m\u001b[0;34m[\u001b[0m\u001b[0mkey\u001b[0m\u001b[0;34m]\u001b[0m\u001b[0;34m[\u001b[0m\u001b[0;36m0\u001b[0m\u001b[0;34m]\u001b[0m \u001b[0;32mfor\u001b[0m \u001b[0mkey\u001b[0m \u001b[0;32min\u001b[0m \u001b[0mimages_data\u001b[0m\u001b[0;34m]\u001b[0m\u001b[0;34m\u001b[0m\u001b[0;34m\u001b[0m\u001b[0m\n\u001b[0m\u001b[1;32m    105\u001b[0m     \u001b[0mx_train_otsu\u001b[0m \u001b[0;34m=\u001b[0m \u001b[0;34m[\u001b[0m\u001b[0mimages_data\u001b[0m\u001b[0;34m[\u001b[0m\u001b[0mkey\u001b[0m\u001b[0;34m]\u001b[0m\u001b[0;34m[\u001b[0m\u001b[0;36m1\u001b[0m\u001b[0;34m]\u001b[0m \u001b[0;32mfor\u001b[0m \u001b[0mkey\u001b[0m \u001b[0;32min\u001b[0m \u001b[0mimages_data\u001b[0m\u001b[0;34m]\u001b[0m\u001b[0;34m\u001b[0m\u001b[0;34m\u001b[0m\u001b[0m\n\u001b[1;32m    106\u001b[0m     \u001b[0mx_train_adapt\u001b[0m \u001b[0;34m=\u001b[0m \u001b[0;34m[\u001b[0m\u001b[0mimages_data\u001b[0m\u001b[0;34m[\u001b[0m\u001b[0mkey\u001b[0m\u001b[0;34m]\u001b[0m\u001b[0;34m[\u001b[0m\u001b[0;36m2\u001b[0m\u001b[0;34m]\u001b[0m \u001b[0;32mfor\u001b[0m \u001b[0mkey\u001b[0m \u001b[0;32min\u001b[0m \u001b[0mimages_data\u001b[0m\u001b[0;34m]\u001b[0m\u001b[0;34m\u001b[0m\u001b[0;34m\u001b[0m\u001b[0m\n",
            "\u001b[0;32m<ipython-input-101-f1741fad00d2>\u001b[0m in \u001b[0;36m<listcomp>\u001b[0;34m(.0)\u001b[0m\n\u001b[1;32m    102\u001b[0m \u001b[0;34m\u001b[0m\u001b[0m\n\u001b[1;32m    103\u001b[0m     \u001b[0;31m# Get x_train and threshold images\u001b[0m\u001b[0;34m\u001b[0m\u001b[0;34m\u001b[0m\u001b[0m\n\u001b[0;32m--> 104\u001b[0;31m     \u001b[0mx_train\u001b[0m \u001b[0;34m=\u001b[0m \u001b[0;34m[\u001b[0m\u001b[0mimages_data\u001b[0m\u001b[0;34m[\u001b[0m\u001b[0mkey\u001b[0m\u001b[0;34m]\u001b[0m\u001b[0;34m[\u001b[0m\u001b[0;36m0\u001b[0m\u001b[0;34m]\u001b[0m \u001b[0;32mfor\u001b[0m \u001b[0mkey\u001b[0m \u001b[0;32min\u001b[0m \u001b[0mimages_data\u001b[0m\u001b[0;34m]\u001b[0m\u001b[0;34m\u001b[0m\u001b[0;34m\u001b[0m\u001b[0m\n\u001b[0m\u001b[1;32m    105\u001b[0m     \u001b[0mx_train_otsu\u001b[0m \u001b[0;34m=\u001b[0m \u001b[0;34m[\u001b[0m\u001b[0mimages_data\u001b[0m\u001b[0;34m[\u001b[0m\u001b[0mkey\u001b[0m\u001b[0;34m]\u001b[0m\u001b[0;34m[\u001b[0m\u001b[0;36m1\u001b[0m\u001b[0;34m]\u001b[0m \u001b[0;32mfor\u001b[0m \u001b[0mkey\u001b[0m \u001b[0;32min\u001b[0m \u001b[0mimages_data\u001b[0m\u001b[0;34m]\u001b[0m\u001b[0;34m\u001b[0m\u001b[0;34m\u001b[0m\u001b[0m\n\u001b[1;32m    106\u001b[0m     \u001b[0mx_train_adapt\u001b[0m \u001b[0;34m=\u001b[0m \u001b[0;34m[\u001b[0m\u001b[0mimages_data\u001b[0m\u001b[0;34m[\u001b[0m\u001b[0mkey\u001b[0m\u001b[0;34m]\u001b[0m\u001b[0;34m[\u001b[0m\u001b[0;36m2\u001b[0m\u001b[0;34m]\u001b[0m \u001b[0;32mfor\u001b[0m \u001b[0mkey\u001b[0m \u001b[0;32min\u001b[0m \u001b[0mimages_data\u001b[0m\u001b[0;34m]\u001b[0m\u001b[0;34m\u001b[0m\u001b[0;34m\u001b[0m\u001b[0m\n",
            "\u001b[0;31mTypeError\u001b[0m: list indices must be integers or slices, not tuple"
          ]
        }
      ],
      "source": [
        "images_data, names = extract_features(folds)"
      ]
    },
    {
      "cell_type": "code",
      "source": [
        "import csv\n",
        "for i in range(len(all_folds_feats)):\n",
        "    feat_o = all_folds_feats[i][0]\n",
        "    feat_a = all_folds_feats[i][1]\n",
        "    filename_o = f'fold{i+1}_o.csv'\n",
        "\n",
        "    filename_a = f'fold{i+1}_a.csv'\n",
        "\n",
        "    with open(filename_o, 'w', newline='') as f:\n",
        "    # Step 4: Using csv.writer to write the list to the CSV file\n",
        "        writer = csv.writer(f)\n",
        "        writer.writerows(feat_o) # Use writerow for single list\n",
        "\n",
        "    with open(filename_a, 'w', newline='') as f:\n",
        "    # Step 4: Using csv.writer to write the list to the CSV file\n",
        "        writer = csv.writer(f)\n",
        "        writer.writerows(feat_a) # Use writerow for single list"
      ],
      "metadata": {
        "id": "krzc1RqUUTNv"
      },
      "id": "krzc1RqUUTNv",
      "execution_count": null,
      "outputs": []
    },
    {
      "cell_type": "code",
      "source": [
        "with open('names.txt', 'w') as f:\n",
        "    f.write(names)"
      ],
      "metadata": {
        "id": "lnawoD6ZUj--"
      },
      "id": "lnawoD6ZUj--",
      "execution_count": null,
      "outputs": []
    },
    {
      "cell_type": "code",
      "execution_count": null,
      "id": "a68bb17b-0b53-4633-b093-f0073d8aac95",
      "metadata": {
        "id": "a68bb17b-0b53-4633-b093-f0073d8aac95",
        "outputId": "eb3fe62b-07d4-4cb7-fd80-6b050d3eb38f"
      },
      "outputs": [
        {
          "data": {
            "text/plain": [
              "129"
            ]
          },
          "execution_count": 17,
          "metadata": {},
          "output_type": "execute_result"
        }
      ],
      "source": [
        "len(all_folds_feats[1][0][0])\n"
      ]
    }
  ],
  "metadata": {
    "kernelspec": {
      "display_name": "Python 3 (ipykernel)",
      "language": "python",
      "name": "python3"
    },
    "language_info": {
      "codemirror_mode": {
        "name": "ipython",
        "version": 3
      },
      "file_extension": ".py",
      "mimetype": "text/x-python",
      "name": "python",
      "nbconvert_exporter": "python",
      "pygments_lexer": "ipython3",
      "version": "3.9.13"
    },
    "colab": {
      "provenance": []
    }
  },
  "nbformat": 4,
  "nbformat_minor": 5
}